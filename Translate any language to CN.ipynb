{
  "nbformat": 4,
  "nbformat_minor": 0,
  "metadata": {
    "colab": {
      "provenance": [],
      "gpuType": "T4",
      "authorship_tag": "ABX9TyOhGvVhtiV24fap3K/X686G",
      "include_colab_link": true
    },
    "kernelspec": {
      "name": "python3",
      "display_name": "Python 3"
    },
    "language_info": {
      "name": "python"
    },
    "accelerator": "GPU"
  },
  "cells": [
    {
      "cell_type": "markdown",
      "metadata": {
        "id": "view-in-github",
        "colab_type": "text"
      },
      "source": [
        "<a href=\"https://colab.research.google.com/github/lulu0o6/Google-translator-colab/blob/main/Translate%20any%20language%20to%20CN.ipynb\" target=\"_parent\"><img src=\"https://colab.research.google.com/assets/colab-badge.svg\" alt=\"Open In Colab\"/></a>"
      ]
    },
    {
      "cell_type": "code",
      "source": [
        "# DOC Auto to CN，谷歌翻译，各种语言翻译为中文\n",
        "# 安装依赖（适用于Colab）\n",
        "!pip install python-docx googletrans==4.0.0-rc1 tqdm -q\n",
        "\n",
        "from googletrans import Translator\n",
        "from docx import Document\n",
        "from docx.shared import Pt\n",
        "from google.colab import files\n",
        "from tqdm import tqdm\n",
        "import time\n",
        "\n",
        "translator = Translator(service_urls=['translate.google.com'])\n",
        "\n",
        "def translate_text(text):\n",
        "    if not text.strip():\n",
        "        return text\n",
        "    try:\n",
        "        result = translator.translate(text, src='auto', dest='zh-cn') #任意语言翻译为中文\n",
        "        return result.text\n",
        "    except Exception as e:\n",
        "        print(\"翻译错误:\", e)\n",
        "        return text\n",
        "\n",
        "# 上传Word文件\n",
        "uploaded = files.upload()\n",
        "input_path = list(uploaded.keys())[0]\n",
        "\n",
        "# 打开Word文档\n",
        "doc = Document(input_path)\n",
        "print(f\"开始翻译 {len(doc.paragraphs)} 个段落...\")\n",
        "\n",
        "# 翻译每段\n",
        "for para in tqdm(doc.paragraphs):\n",
        "    if not para.text.strip():\n",
        "        continue\n",
        "    translated_text = translate_text(para.text)\n",
        "    time.sleep(0.5)  # 防止被Google限流\n",
        "\n",
        "    # 删除原有Run\n",
        "    for _ in range(len(para.runs)):\n",
        "        para.runs[0]._element.getparent().remove(para.runs[0]._element)\n",
        "\n",
        "    # 添加翻译文本为新的Run\n",
        "    new_run = para.add_run(translated_text)\n",
        "    new_run.font.size = Pt(11)\n",
        "\n",
        "# 保存新文档\n",
        "output_path = \"translated_output.docx\"\n",
        "doc.save(output_path)\n",
        "print(f\"翻译完成，保存为 {output_path}\")\n",
        "\n",
        "# 下载文件\n",
        "files.download(output_path)"
      ],
      "metadata": {
        "id": "0oUGjMhsnnBR",
        "colab": {
          "base_uri": "https://localhost:8080/",
          "height": 160
        },
        "collapsed": true,
        "outputId": "fbc7b822-bea9-4222-d9c6-f77571f66d98"
      },
      "execution_count": 4,
      "outputs": [
        {
          "output_type": "display_data",
          "data": {
            "text/plain": [
              "<IPython.core.display.HTML object>"
            ],
            "text/html": [
              "\n",
              "     <input type=\"file\" id=\"files-62e9ebc8-e0bd-4c02-b4de-6754fcc15600\" name=\"files[]\" multiple disabled\n",
              "        style=\"border:none\" />\n",
              "     <output id=\"result-62e9ebc8-e0bd-4c02-b4de-6754fcc15600\">\n",
              "      Upload widget is only available when the cell has been executed in the\n",
              "      current browser session. Please rerun this cell to enable.\n",
              "      </output>\n",
              "      <script>// Copyright 2017 Google LLC\n",
              "//\n",
              "// Licensed under the Apache License, Version 2.0 (the \"License\");\n",
              "// you may not use this file except in compliance with the License.\n",
              "// You may obtain a copy of the License at\n",
              "//\n",
              "//      http://www.apache.org/licenses/LICENSE-2.0\n",
              "//\n",
              "// Unless required by applicable law or agreed to in writing, software\n",
              "// distributed under the License is distributed on an \"AS IS\" BASIS,\n",
              "// WITHOUT WARRANTIES OR CONDITIONS OF ANY KIND, either express or implied.\n",
              "// See the License for the specific language governing permissions and\n",
              "// limitations under the License.\n",
              "\n",
              "/**\n",
              " * @fileoverview Helpers for google.colab Python module.\n",
              " */\n",
              "(function(scope) {\n",
              "function span(text, styleAttributes = {}) {\n",
              "  const element = document.createElement('span');\n",
              "  element.textContent = text;\n",
              "  for (const key of Object.keys(styleAttributes)) {\n",
              "    element.style[key] = styleAttributes[key];\n",
              "  }\n",
              "  return element;\n",
              "}\n",
              "\n",
              "// Max number of bytes which will be uploaded at a time.\n",
              "const MAX_PAYLOAD_SIZE = 100 * 1024;\n",
              "\n",
              "function _uploadFiles(inputId, outputId) {\n",
              "  const steps = uploadFilesStep(inputId, outputId);\n",
              "  const outputElement = document.getElementById(outputId);\n",
              "  // Cache steps on the outputElement to make it available for the next call\n",
              "  // to uploadFilesContinue from Python.\n",
              "  outputElement.steps = steps;\n",
              "\n",
              "  return _uploadFilesContinue(outputId);\n",
              "}\n",
              "\n",
              "// This is roughly an async generator (not supported in the browser yet),\n",
              "// where there are multiple asynchronous steps and the Python side is going\n",
              "// to poll for completion of each step.\n",
              "// This uses a Promise to block the python side on completion of each step,\n",
              "// then passes the result of the previous step as the input to the next step.\n",
              "function _uploadFilesContinue(outputId) {\n",
              "  const outputElement = document.getElementById(outputId);\n",
              "  const steps = outputElement.steps;\n",
              "\n",
              "  const next = steps.next(outputElement.lastPromiseValue);\n",
              "  return Promise.resolve(next.value.promise).then((value) => {\n",
              "    // Cache the last promise value to make it available to the next\n",
              "    // step of the generator.\n",
              "    outputElement.lastPromiseValue = value;\n",
              "    return next.value.response;\n",
              "  });\n",
              "}\n",
              "\n",
              "/**\n",
              " * Generator function which is called between each async step of the upload\n",
              " * process.\n",
              " * @param {string} inputId Element ID of the input file picker element.\n",
              " * @param {string} outputId Element ID of the output display.\n",
              " * @return {!Iterable<!Object>} Iterable of next steps.\n",
              " */\n",
              "function* uploadFilesStep(inputId, outputId) {\n",
              "  const inputElement = document.getElementById(inputId);\n",
              "  inputElement.disabled = false;\n",
              "\n",
              "  const outputElement = document.getElementById(outputId);\n",
              "  outputElement.innerHTML = '';\n",
              "\n",
              "  const pickedPromise = new Promise((resolve) => {\n",
              "    inputElement.addEventListener('change', (e) => {\n",
              "      resolve(e.target.files);\n",
              "    });\n",
              "  });\n",
              "\n",
              "  const cancel = document.createElement('button');\n",
              "  inputElement.parentElement.appendChild(cancel);\n",
              "  cancel.textContent = 'Cancel upload';\n",
              "  const cancelPromise = new Promise((resolve) => {\n",
              "    cancel.onclick = () => {\n",
              "      resolve(null);\n",
              "    };\n",
              "  });\n",
              "\n",
              "  // Wait for the user to pick the files.\n",
              "  const files = yield {\n",
              "    promise: Promise.race([pickedPromise, cancelPromise]),\n",
              "    response: {\n",
              "      action: 'starting',\n",
              "    }\n",
              "  };\n",
              "\n",
              "  cancel.remove();\n",
              "\n",
              "  // Disable the input element since further picks are not allowed.\n",
              "  inputElement.disabled = true;\n",
              "\n",
              "  if (!files) {\n",
              "    return {\n",
              "      response: {\n",
              "        action: 'complete',\n",
              "      }\n",
              "    };\n",
              "  }\n",
              "\n",
              "  for (const file of files) {\n",
              "    const li = document.createElement('li');\n",
              "    li.append(span(file.name, {fontWeight: 'bold'}));\n",
              "    li.append(span(\n",
              "        `(${file.type || 'n/a'}) - ${file.size} bytes, ` +\n",
              "        `last modified: ${\n",
              "            file.lastModifiedDate ? file.lastModifiedDate.toLocaleDateString() :\n",
              "                                    'n/a'} - `));\n",
              "    const percent = span('0% done');\n",
              "    li.appendChild(percent);\n",
              "\n",
              "    outputElement.appendChild(li);\n",
              "\n",
              "    const fileDataPromise = new Promise((resolve) => {\n",
              "      const reader = new FileReader();\n",
              "      reader.onload = (e) => {\n",
              "        resolve(e.target.result);\n",
              "      };\n",
              "      reader.readAsArrayBuffer(file);\n",
              "    });\n",
              "    // Wait for the data to be ready.\n",
              "    let fileData = yield {\n",
              "      promise: fileDataPromise,\n",
              "      response: {\n",
              "        action: 'continue',\n",
              "      }\n",
              "    };\n",
              "\n",
              "    // Use a chunked sending to avoid message size limits. See b/62115660.\n",
              "    let position = 0;\n",
              "    do {\n",
              "      const length = Math.min(fileData.byteLength - position, MAX_PAYLOAD_SIZE);\n",
              "      const chunk = new Uint8Array(fileData, position, length);\n",
              "      position += length;\n",
              "\n",
              "      const base64 = btoa(String.fromCharCode.apply(null, chunk));\n",
              "      yield {\n",
              "        response: {\n",
              "          action: 'append',\n",
              "          file: file.name,\n",
              "          data: base64,\n",
              "        },\n",
              "      };\n",
              "\n",
              "      let percentDone = fileData.byteLength === 0 ?\n",
              "          100 :\n",
              "          Math.round((position / fileData.byteLength) * 100);\n",
              "      percent.textContent = `${percentDone}% done`;\n",
              "\n",
              "    } while (position < fileData.byteLength);\n",
              "  }\n",
              "\n",
              "  // All done.\n",
              "  yield {\n",
              "    response: {\n",
              "      action: 'complete',\n",
              "    }\n",
              "  };\n",
              "}\n",
              "\n",
              "scope.google = scope.google || {};\n",
              "scope.google.colab = scope.google.colab || {};\n",
              "scope.google.colab._files = {\n",
              "  _uploadFiles,\n",
              "  _uploadFilesContinue,\n",
              "};\n",
              "})(self);\n",
              "</script> "
            ]
          },
          "metadata": {}
        },
        {
          "output_type": "stream",
          "name": "stdout",
          "text": [
            "Saving 当然可以.docx to 当然可以 (1).docx\n",
            "开始翻译 22 个段落...\n"
          ]
        },
        {
          "output_type": "stream",
          "name": "stderr",
          "text": [
            " 50%|█████     | 11/22 [00:06<00:09,  1.20it/s]"
          ]
        },
        {
          "output_type": "stream",
          "name": "stdout",
          "text": [
            "翻译错误: the JSON object must be str, bytes or bytearray, not NoneType\n"
          ]
        },
        {
          "output_type": "stream",
          "name": "stderr",
          "text": [
            "100%|██████████| 22/22 [00:24<00:00,  1.13s/it]"
          ]
        },
        {
          "output_type": "stream",
          "name": "stdout",
          "text": [
            "翻译完成，保存为 translated_output.docx\n"
          ]
        },
        {
          "output_type": "stream",
          "name": "stderr",
          "text": [
            "\n"
          ]
        },
        {
          "output_type": "display_data",
          "data": {
            "text/plain": [
              "<IPython.core.display.Javascript object>"
            ],
            "application/javascript": [
              "\n",
              "    async function download(id, filename, size) {\n",
              "      if (!google.colab.kernel.accessAllowed) {\n",
              "        return;\n",
              "      }\n",
              "      const div = document.createElement('div');\n",
              "      const label = document.createElement('label');\n",
              "      label.textContent = `Downloading \"${filename}\": `;\n",
              "      div.appendChild(label);\n",
              "      const progress = document.createElement('progress');\n",
              "      progress.max = size;\n",
              "      div.appendChild(progress);\n",
              "      document.body.appendChild(div);\n",
              "\n",
              "      const buffers = [];\n",
              "      let downloaded = 0;\n",
              "\n",
              "      const channel = await google.colab.kernel.comms.open(id);\n",
              "      // Send a message to notify the kernel that we're ready.\n",
              "      channel.send({})\n",
              "\n",
              "      for await (const message of channel.messages) {\n",
              "        // Send a message to notify the kernel that we're ready.\n",
              "        channel.send({})\n",
              "        if (message.buffers) {\n",
              "          for (const buffer of message.buffers) {\n",
              "            buffers.push(buffer);\n",
              "            downloaded += buffer.byteLength;\n",
              "            progress.value = downloaded;\n",
              "          }\n",
              "        }\n",
              "      }\n",
              "      const blob = new Blob(buffers, {type: 'application/binary'});\n",
              "      const a = document.createElement('a');\n",
              "      a.href = window.URL.createObjectURL(blob);\n",
              "      a.download = filename;\n",
              "      div.appendChild(a);\n",
              "      a.click();\n",
              "      div.remove();\n",
              "    }\n",
              "  "
            ]
          },
          "metadata": {}
        },
        {
          "output_type": "display_data",
          "data": {
            "text/plain": [
              "<IPython.core.display.Javascript object>"
            ],
            "application/javascript": [
              "download(\"download_6c5325df-1cf7-4acf-8eac-32a4ae899733\", \"translated_output.docx\", 13853)"
            ]
          },
          "metadata": {}
        }
      ]
    },
    {
      "cell_type": "code",
      "execution_count": null,
      "metadata": {
        "id": "VoPHZ38RgS0J"
      },
      "outputs": [],
      "source": [
        "# PDF Auto to CN，谷歌翻译，2025.7.27测试可用\n",
        "# 安装依赖\n",
        "!apt-get install -y libreoffice ocrmypdf tesseract-ocr tesseract-ocr-chi-sim > /dev/null\n",
        "!pip install deep-translator python-docx tqdm PyMuPDF -q\n",
        "\n",
        "from deep_translator import GoogleTranslator\n",
        "from docx import Document\n",
        "from docx.shared import Pt\n",
        "from google.colab import files\n",
        "from tqdm import tqdm\n",
        "import fitz  # PyMuPDF\n",
        "import time\n",
        "import os\n",
        "\n",
        "# 翻译函数\n",
        "def translate_text(text):\n",
        "    if not text.strip():\n",
        "        return text\n",
        "    try:\n",
        "        return GoogleTranslator(source='auto', target='zh-CN').translate(text)\n",
        "    except Exception as e:\n",
        "        print(\"翻译错误:\", e)\n",
        "        return text\n",
        "\n",
        "# 上传 PDF 文件\n",
        "uploaded = files.upload()\n",
        "input_pdf_path = list(uploaded.keys())[0]\n",
        "\n",
        "# 尝试读取文字，判断是否需要 OCR\n",
        "doc = fitz.open(input_pdf_path)\n",
        "has_text = any(page.get_text(\"text\").strip() for page in doc)\n",
        "\n",
        "# 如果没有可选文字，执行 OCR 预处理\n",
        "if not has_text:\n",
        "    print(\"⚠️ 原始 PDF 无可选文字，正在执行 OCR 识别...\")\n",
        "    ocr_output_path = \"ocr_output.pdf\"\n",
        "    !ocrmypdf --skip-text --language eng+nld+chi_sim \"{input_pdf_path}\" \"{ocr_output_path}\"\n",
        "    pdf_path_to_use = ocr_output_path\n",
        "    print(\"✅ OCR 完成，已生成含文字的 PDF\")\n",
        "else:\n",
        "    print(\"✅ 检测到可选文字，跳过 OCR\")\n",
        "    pdf_path_to_use = input_pdf_path\n",
        "\n",
        "# 重新读取（OCR 后）\n",
        "pdf_doc = fitz.open(pdf_path_to_use)\n",
        "total_pages = len(pdf_doc)\n",
        "translated_doc = Document()\n",
        "\n",
        "print(f\"\\n📖 开始翻译共 {total_pages} 页的 PDF 内容...\\n\")\n",
        "\n",
        "# 翻译每一页\n",
        "for page_num, page in enumerate(tqdm(pdf_doc, desc=\"📄 翻译中\"), start=1):\n",
        "    page_header = f\"📄 第 {page_num} 页\"\n",
        "    header_para = translated_doc.add_paragraph()\n",
        "    header_run = header_para.add_run(page_header)\n",
        "    header_run.font.size = Pt(13)\n",
        "    header_run.bold = True\n",
        "\n",
        "    text = page.get_text(\"text\")\n",
        "    lines = [line.strip() for line in text.split('\\n') if line.strip()]\n",
        "    for para_text in tqdm(lines, desc=f\"↳ 第 {page_num} 页段落翻译\", leave=False):\n",
        "        translated = translate_text(para_text)\n",
        "        time.sleep(0.5)\n",
        "        para = translated_doc.add_paragraph()\n",
        "        run = para.add_run(translated)\n",
        "        run.font.size = Pt(11)\n",
        "\n",
        "# 保存 Word 文件\n",
        "docx_output = \"translated_output.docx\"\n",
        "translated_doc.save(docx_output)\n",
        "\n",
        "# 转换为 PDF\n",
        "!libreoffice --headless --convert-to pdf \"{docx_output}\" > /dev/null\n",
        "\n",
        "# 下载 PDF\n",
        "pdf_output = \"translated_output.pdf\"\n",
        "print(\"\\n✅ 翻译完成，生成 PDF 文件 ✅\")\n",
        "files.download(pdf_output)\n"
      ]
    },
    {
      "cell_type": "code",
      "source": [
        "# PPT auto to CN，可翻译表格，表格字号12\n",
        "# 安装依赖\n",
        "!pip install googletrans==4.0.0-rc1 python-pptx tqdm -q\n",
        "\n",
        "# 导入库\n",
        "from google.colab import files\n",
        "from pptx import Presentation\n",
        "from pptx.util import Pt\n",
        "from googletrans import Translator\n",
        "from tqdm import tqdm\n",
        "import time\n",
        "\n",
        "# 初始化翻译器\n",
        "translator = Translator(service_urls=['translate.google.com'])\n",
        "\n",
        "# 翻译函数，含限速与失败重试\n",
        "def translate_text(text, max_retries=3):\n",
        "    if not text.strip():\n",
        "        return text\n",
        "    for attempt in range(max_retries):\n",
        "        try:\n",
        "            result = translator.translate(text, src='auto', dest='zh-cn')\n",
        "            time.sleep(0.5)  # 限速\n",
        "            return result.text\n",
        "        except Exception as e:\n",
        "            print(f\"翻译失败，重试 {attempt+1}/{max_retries}：{e}\")\n",
        "            time.sleep(1)\n",
        "    print(\"多次翻译失败，返回原文。\")\n",
        "    return text\n",
        "\n",
        "# 上传PPT文件\n",
        "uploaded = files.upload()\n",
        "input_ppt_path = list(uploaded.keys())[0]\n",
        "\n",
        "# 加载PPT\n",
        "prs = Presentation(input_ppt_path)\n",
        "total_slides = len(prs.slides)\n",
        "print(\"📄 共加载幻灯片页数：\", total_slides)\n",
        "\n",
        "# 遍历每页幻灯片\n",
        "for slide_idx, slide in enumerate(tqdm(prs.slides, desc=\"翻译幻灯片\", unit=\"页\"), start=1):\n",
        "    print(f\"\\n➡️ 正在翻译第 {slide_idx}/{total_slides} 页\")\n",
        "\n",
        "    for shape in tqdm(slide.shapes, desc=\"处理形状\", leave=False):\n",
        "        # 翻译文本框\n",
        "        if shape.has_text_frame:\n",
        "            for para in shape.text_frame.paragraphs:\n",
        "                orig_text = para.text\n",
        "                translated = translate_text(orig_text)\n",
        "                para.text = translated\n",
        "                for run in para.runs:\n",
        "                    run.font.size = Pt(12) #字号设置为12\n",
        "\n",
        "        # 翻译表格单元格\n",
        "        elif shape.shape_type == 19:  # 表格\n",
        "            table = shape.table\n",
        "            row_count = len(table.rows)\n",
        "            col_count = len(table.columns)\n",
        "            for i in range(row_count):\n",
        "                for j in range(col_count):\n",
        "                    cell = table.cell(i, j)\n",
        "                    orig_text = cell.text\n",
        "                    translated = translate_text(orig_text)\n",
        "                    cell.text = translated\n",
        "                       # 设置表格字体大小\n",
        "                    for para in cell.text_frame.paragraphs:\n",
        "                        for run in para.runs:\n",
        "                            run.font.size = Pt(12) #字号设置为12\n",
        "\n",
        "# 保存并下载结果\n",
        "output_ppt = \"translated_output.pptx\"\n",
        "prs.save(output_ppt)\n",
        "print(\"\\n✅ 翻译完成，准备下载...\")\n",
        "files.download(output_ppt)\n"
      ],
      "metadata": {
        "id": "rZwaFJEItb0w",
        "colab": {
          "base_uri": "https://localhost:8080/",
          "height": 1000
        },
        "outputId": "9d34314e-7475-4fa5-fb0b-c9689493d930",
        "collapsed": true
      },
      "execution_count": 2,
      "outputs": [
        {
          "output_type": "display_data",
          "data": {
            "text/plain": [
              "<IPython.core.display.HTML object>"
            ],
            "text/html": [
              "\n",
              "     <input type=\"file\" id=\"files-73f37983-5407-49d4-800c-f3d9288b86e3\" name=\"files[]\" multiple disabled\n",
              "        style=\"border:none\" />\n",
              "     <output id=\"result-73f37983-5407-49d4-800c-f3d9288b86e3\">\n",
              "      Upload widget is only available when the cell has been executed in the\n",
              "      current browser session. Please rerun this cell to enable.\n",
              "      </output>\n",
              "      <script>// Copyright 2017 Google LLC\n",
              "//\n",
              "// Licensed under the Apache License, Version 2.0 (the \"License\");\n",
              "// you may not use this file except in compliance with the License.\n",
              "// You may obtain a copy of the License at\n",
              "//\n",
              "//      http://www.apache.org/licenses/LICENSE-2.0\n",
              "//\n",
              "// Unless required by applicable law or agreed to in writing, software\n",
              "// distributed under the License is distributed on an \"AS IS\" BASIS,\n",
              "// WITHOUT WARRANTIES OR CONDITIONS OF ANY KIND, either express or implied.\n",
              "// See the License for the specific language governing permissions and\n",
              "// limitations under the License.\n",
              "\n",
              "/**\n",
              " * @fileoverview Helpers for google.colab Python module.\n",
              " */\n",
              "(function(scope) {\n",
              "function span(text, styleAttributes = {}) {\n",
              "  const element = document.createElement('span');\n",
              "  element.textContent = text;\n",
              "  for (const key of Object.keys(styleAttributes)) {\n",
              "    element.style[key] = styleAttributes[key];\n",
              "  }\n",
              "  return element;\n",
              "}\n",
              "\n",
              "// Max number of bytes which will be uploaded at a time.\n",
              "const MAX_PAYLOAD_SIZE = 100 * 1024;\n",
              "\n",
              "function _uploadFiles(inputId, outputId) {\n",
              "  const steps = uploadFilesStep(inputId, outputId);\n",
              "  const outputElement = document.getElementById(outputId);\n",
              "  // Cache steps on the outputElement to make it available for the next call\n",
              "  // to uploadFilesContinue from Python.\n",
              "  outputElement.steps = steps;\n",
              "\n",
              "  return _uploadFilesContinue(outputId);\n",
              "}\n",
              "\n",
              "// This is roughly an async generator (not supported in the browser yet),\n",
              "// where there are multiple asynchronous steps and the Python side is going\n",
              "// to poll for completion of each step.\n",
              "// This uses a Promise to block the python side on completion of each step,\n",
              "// then passes the result of the previous step as the input to the next step.\n",
              "function _uploadFilesContinue(outputId) {\n",
              "  const outputElement = document.getElementById(outputId);\n",
              "  const steps = outputElement.steps;\n",
              "\n",
              "  const next = steps.next(outputElement.lastPromiseValue);\n",
              "  return Promise.resolve(next.value.promise).then((value) => {\n",
              "    // Cache the last promise value to make it available to the next\n",
              "    // step of the generator.\n",
              "    outputElement.lastPromiseValue = value;\n",
              "    return next.value.response;\n",
              "  });\n",
              "}\n",
              "\n",
              "/**\n",
              " * Generator function which is called between each async step of the upload\n",
              " * process.\n",
              " * @param {string} inputId Element ID of the input file picker element.\n",
              " * @param {string} outputId Element ID of the output display.\n",
              " * @return {!Iterable<!Object>} Iterable of next steps.\n",
              " */\n",
              "function* uploadFilesStep(inputId, outputId) {\n",
              "  const inputElement = document.getElementById(inputId);\n",
              "  inputElement.disabled = false;\n",
              "\n",
              "  const outputElement = document.getElementById(outputId);\n",
              "  outputElement.innerHTML = '';\n",
              "\n",
              "  const pickedPromise = new Promise((resolve) => {\n",
              "    inputElement.addEventListener('change', (e) => {\n",
              "      resolve(e.target.files);\n",
              "    });\n",
              "  });\n",
              "\n",
              "  const cancel = document.createElement('button');\n",
              "  inputElement.parentElement.appendChild(cancel);\n",
              "  cancel.textContent = 'Cancel upload';\n",
              "  const cancelPromise = new Promise((resolve) => {\n",
              "    cancel.onclick = () => {\n",
              "      resolve(null);\n",
              "    };\n",
              "  });\n",
              "\n",
              "  // Wait for the user to pick the files.\n",
              "  const files = yield {\n",
              "    promise: Promise.race([pickedPromise, cancelPromise]),\n",
              "    response: {\n",
              "      action: 'starting',\n",
              "    }\n",
              "  };\n",
              "\n",
              "  cancel.remove();\n",
              "\n",
              "  // Disable the input element since further picks are not allowed.\n",
              "  inputElement.disabled = true;\n",
              "\n",
              "  if (!files) {\n",
              "    return {\n",
              "      response: {\n",
              "        action: 'complete',\n",
              "      }\n",
              "    };\n",
              "  }\n",
              "\n",
              "  for (const file of files) {\n",
              "    const li = document.createElement('li');\n",
              "    li.append(span(file.name, {fontWeight: 'bold'}));\n",
              "    li.append(span(\n",
              "        `(${file.type || 'n/a'}) - ${file.size} bytes, ` +\n",
              "        `last modified: ${\n",
              "            file.lastModifiedDate ? file.lastModifiedDate.toLocaleDateString() :\n",
              "                                    'n/a'} - `));\n",
              "    const percent = span('0% done');\n",
              "    li.appendChild(percent);\n",
              "\n",
              "    outputElement.appendChild(li);\n",
              "\n",
              "    const fileDataPromise = new Promise((resolve) => {\n",
              "      const reader = new FileReader();\n",
              "      reader.onload = (e) => {\n",
              "        resolve(e.target.result);\n",
              "      };\n",
              "      reader.readAsArrayBuffer(file);\n",
              "    });\n",
              "    // Wait for the data to be ready.\n",
              "    let fileData = yield {\n",
              "      promise: fileDataPromise,\n",
              "      response: {\n",
              "        action: 'continue',\n",
              "      }\n",
              "    };\n",
              "\n",
              "    // Use a chunked sending to avoid message size limits. See b/62115660.\n",
              "    let position = 0;\n",
              "    do {\n",
              "      const length = Math.min(fileData.byteLength - position, MAX_PAYLOAD_SIZE);\n",
              "      const chunk = new Uint8Array(fileData, position, length);\n",
              "      position += length;\n",
              "\n",
              "      const base64 = btoa(String.fromCharCode.apply(null, chunk));\n",
              "      yield {\n",
              "        response: {\n",
              "          action: 'append',\n",
              "          file: file.name,\n",
              "          data: base64,\n",
              "        },\n",
              "      };\n",
              "\n",
              "      let percentDone = fileData.byteLength === 0 ?\n",
              "          100 :\n",
              "          Math.round((position / fileData.byteLength) * 100);\n",
              "      percent.textContent = `${percentDone}% done`;\n",
              "\n",
              "    } while (position < fileData.byteLength);\n",
              "  }\n",
              "\n",
              "  // All done.\n",
              "  yield {\n",
              "    response: {\n",
              "      action: 'complete',\n",
              "    }\n",
              "  };\n",
              "}\n",
              "\n",
              "scope.google = scope.google || {};\n",
              "scope.google.colab = scope.google.colab || {};\n",
              "scope.google.colab._files = {\n",
              "  _uploadFiles,\n",
              "  _uploadFilesContinue,\n",
              "};\n",
              "})(self);\n",
              "</script> "
            ]
          },
          "metadata": {}
        },
        {
          "output_type": "stream",
          "name": "stdout",
          "text": [
            "Saving GG917 China Development Strategy and Plan CDDC_14May2025_Leader Review.pptx to GG917 China Development Strategy and Plan CDDC_14May2025_Leader Review (1).pptx\n",
            "📄 共加载幻灯片页数： 25\n"
          ]
        },
        {
          "output_type": "stream",
          "name": "stderr",
          "text": [
            "\r翻译幻灯片:   0%|          | 0/25 [00:00<?, ?页/s]"
          ]
        },
        {
          "output_type": "stream",
          "name": "stdout",
          "text": [
            "\n",
            "➡️ 正在翻译第 1/25 页\n"
          ]
        },
        {
          "output_type": "stream",
          "name": "stderr",
          "text": [
            "\n",
            "处理形状:   0%|          | 0/2 [00:00<?, ?it/s]\u001b[A\n",
            "处理形状:  50%|█████     | 1/2 [00:00<00:00,  1.78it/s]\u001b[A\n",
            "处理形状: 100%|██████████| 2/2 [00:02<00:00,  1.24s/it]\u001b[A\n",
            "翻译幻灯片:   4%|▍         | 1/25 [00:02<00:54,  2.28s/页]"
          ]
        },
        {
          "output_type": "stream",
          "name": "stdout",
          "text": [
            "\n",
            "➡️ 正在翻译第 2/25 页\n"
          ]
        },
        {
          "output_type": "stream",
          "name": "stderr",
          "text": [
            "\n",
            "处理形状:   0%|          | 0/14 [00:00<?, ?it/s]\u001b[A\n",
            "处理形状:  21%|██▏       | 3/14 [00:00<00:02,  5.27it/s]\u001b[A\n",
            "处理形状:  29%|██▊       | 4/14 [00:01<00:03,  3.23it/s]\u001b[A\n",
            "处理形状:  36%|███▌      | 5/14 [00:01<00:03,  2.58it/s]\u001b[A\n",
            "处理形状:  50%|█████     | 7/14 [00:02<00:02,  2.98it/s]\u001b[A\n",
            "处理形状:  57%|█████▋    | 8/14 [00:02<00:02,  2.50it/s]\u001b[A\n",
            "处理形状:  64%|██████▍   | 9/14 [00:03<00:02,  2.25it/s]\u001b[A\n",
            "处理形状:  86%|████████▌ | 12/14 [00:03<00:00,  3.24it/s]\u001b[A\n",
            "处理形状:  93%|█████████▎| 13/14 [00:04<00:00,  2.77it/s]\u001b[A\n",
            "处理形状: 100%|██████████| 14/14 [00:05<00:00,  2.46it/s]\u001b[A\n",
            "翻译幻灯片:   8%|▊         | 2/25 [00:07<01:30,  3.94s/页]"
          ]
        },
        {
          "output_type": "stream",
          "name": "stdout",
          "text": [
            "\n",
            "➡️ 正在翻译第 3/25 页\n"
          ]
        },
        {
          "output_type": "stream",
          "name": "stderr",
          "text": [
            "\n",
            "处理形状:   0%|          | 0/5 [00:00<?, ?it/s]\u001b[A\n",
            "处理形状:  40%|████      | 2/5 [00:09<00:14,  4.71s/it]\u001b[A\n",
            "处理形状:  60%|██████    | 3/5 [00:09<00:05,  2.98s/it]\u001b[A\n",
            "处理形状: 100%|██████████| 5/5 [00:11<00:00,  1.66s/it]\u001b[A\n",
            "翻译幻灯片:  12%|█▏        | 3/25 [00:18<02:38,  7.21s/页]"
          ]
        },
        {
          "output_type": "stream",
          "name": "stdout",
          "text": [
            "\n",
            "➡️ 正在翻译第 4/25 页\n"
          ]
        },
        {
          "output_type": "stream",
          "name": "stderr",
          "text": [
            "\n",
            "处理形状:   0%|          | 0/6 [00:00<?, ?it/s]\u001b[A\n",
            "处理形状:  33%|███▎      | 2/6 [00:00<00:01,  3.60it/s]\u001b[A\n",
            "处理形状:  67%|██████▋   | 4/6 [00:01<00:00,  2.26it/s]\u001b[A\n",
            "处理形状:  83%|████████▎ | 5/6 [00:35<00:10, 10.30s/it]\u001b[A\n",
            "处理形状: 100%|██████████| 6/6 [00:36<00:00,  7.41s/it]\u001b[A\n",
            "翻译幻灯片:  16%|█▌        | 4/25 [00:54<06:30, 18.58s/页]"
          ]
        },
        {
          "output_type": "stream",
          "name": "stdout",
          "text": [
            "\n",
            "➡️ 正在翻译第 5/25 页\n"
          ]
        },
        {
          "output_type": "stream",
          "name": "stderr",
          "text": [
            "\n",
            "处理形状:   0%|          | 0/81 [00:00<?, ?it/s]\u001b[A\n",
            "处理形状:   2%|▏         | 2/81 [00:01<00:44,  1.76it/s]\u001b[A\n",
            "处理形状:   5%|▍         | 4/81 [00:01<00:30,  2.49it/s]\u001b[A\n",
            "处理形状:   6%|▌         | 5/81 [00:02<00:33,  2.24it/s]\u001b[A\n",
            "处理形状:   7%|▋         | 6/81 [00:03<00:48,  1.55it/s]\u001b[A\n",
            "处理形状:   9%|▊         | 7/81 [00:04<00:58,  1.27it/s]\u001b[A\n",
            "处理形状:  10%|▉         | 8/81 [00:19<06:03,  4.98s/it]\u001b[A\n",
            "处理形状:  11%|█         | 9/81 [00:19<04:23,  3.66s/it]\u001b[A\n",
            "处理形状:  12%|█▏        | 10/81 [00:20<03:14,  2.73s/it]\u001b[A\n",
            "处理形状:  17%|█▋        | 14/81 [00:21<01:13,  1.10s/it]\u001b[A\n",
            "处理形状:  20%|█▉        | 16/81 [00:21<00:54,  1.18it/s]\u001b[A\n",
            "处理形状:  22%|██▏       | 18/81 [00:22<00:47,  1.32it/s]\u001b[A\n",
            "处理形状:  28%|██▊       | 23/81 [00:23<00:27,  2.09it/s]\u001b[A\n",
            "处理形状:  35%|███▍      | 28/81 [00:24<00:17,  3.10it/s]\u001b[A\n",
            "处理形状:  36%|███▌      | 29/81 [00:24<00:18,  2.85it/s]\u001b[A\n",
            "处理形状:  38%|███▊      | 31/81 [00:26<00:19,  2.51it/s]\u001b[A\n",
            "处理形状:  40%|███▉      | 32/81 [00:26<00:20,  2.37it/s]\u001b[A\n",
            "处理形状:  44%|████▍     | 36/81 [00:27<00:16,  2.79it/s]\u001b[A\n",
            "处理形状:  49%|████▉     | 40/81 [00:28<00:11,  3.61it/s]\u001b[A\n",
            "处理形状:  51%|█████     | 41/81 [00:28<00:12,  3.19it/s]\u001b[A\n",
            "处理形状:  52%|█████▏    | 42/81 [00:29<00:13,  2.83it/s]\u001b[A\n",
            "处理形状:  53%|█████▎    | 43/81 [00:30<00:15,  2.53it/s]\u001b[A\n",
            "处理形状:  57%|█████▋    | 46/81 [00:30<00:10,  3.22it/s]\u001b[A\n",
            "处理形状:  58%|█████▊    | 47/81 [00:31<00:12,  2.81it/s]\u001b[A\n",
            "处理形状:  59%|█████▉    | 48/81 [00:32<00:16,  1.98it/s]\u001b[A\n",
            "处理形状:  60%|██████    | 49/81 [00:32<00:16,  1.93it/s]\u001b[A\n",
            "处理形状:  63%|██████▎   | 51/81 [00:34<00:16,  1.87it/s]\u001b[A\n",
            "处理形状:  64%|██████▍   | 52/81 [00:34<00:15,  1.85it/s]\u001b[A\n",
            "处理形状:  67%|██████▋   | 54/81 [00:35<00:14,  1.82it/s]\u001b[A\n",
            "处理形状:  69%|██████▉   | 56/81 [00:36<00:13,  1.81it/s]\u001b[A\n",
            "处理形状:  70%|███████   | 57/81 [00:37<00:13,  1.80it/s]\u001b[A\n",
            "处理形状:  75%|███████▌  | 61/81 [00:38<00:08,  2.45it/s]\u001b[A\n",
            "处理形状:  78%|███████▊  | 63/81 [00:39<00:08,  2.21it/s]\u001b[A\n",
            "处理形状:  79%|███████▉  | 64/81 [00:40<00:09,  1.76it/s]\u001b[A\n",
            "处理形状:  83%|████████▎ | 67/81 [00:42<00:06,  2.05it/s]\u001b[A\n",
            "处理形状:  86%|████████▋ | 70/81 [00:43<00:04,  2.24it/s]\u001b[A\n",
            "处理形状:  88%|████████▊ | 71/81 [00:44<00:05,  1.83it/s]\u001b[A\n",
            "处理形状:  89%|████████▉ | 72/81 [00:45<00:05,  1.54it/s]\u001b[A\n",
            "处理形状:  90%|█████████ | 73/81 [00:46<00:05,  1.35it/s]\u001b[A\n",
            "处理形状:  95%|█████████▌| 77/81 [00:47<00:01,  2.02it/s]\u001b[A\n",
            "处理形状:  99%|█████████▉| 80/81 [00:48<00:00,  2.60it/s]\u001b[A\n",
            "翻译幻灯片:  20%|██        | 5/25 [01:42<09:45, 29.27s/页]"
          ]
        },
        {
          "output_type": "stream",
          "name": "stdout",
          "text": [
            "\n",
            "➡️ 正在翻译第 6/25 页\n"
          ]
        },
        {
          "output_type": "stream",
          "name": "stderr",
          "text": [
            "\n",
            "处理形状:   0%|          | 0/11 [00:00<?, ?it/s]\u001b[A\n",
            "处理形状:  27%|██▋       | 3/11 [00:00<00:01,  5.26it/s]\u001b[A\n",
            "处理形状:  36%|███▋      | 4/11 [00:01<00:02,  3.19it/s]\u001b[A\n",
            "处理形状:  45%|████▌     | 5/11 [00:01<00:02,  2.53it/s]\u001b[A\n",
            "处理形状:  64%|██████▎   | 7/11 [00:02<00:01,  2.92it/s]\u001b[A\n",
            "处理形状:  73%|███████▎  | 8/11 [00:02<00:01,  2.51it/s]\u001b[A\n",
            "处理形状:  91%|█████████ | 10/11 [00:03<00:00,  2.14it/s]\u001b[A\n",
            "处理形状: 100%|██████████| 11/11 [00:04<00:00,  2.03it/s]\u001b[A\n",
            "翻译幻灯片:  24%|██▍       | 6/25 [01:47<06:36, 20.87s/页]"
          ]
        },
        {
          "output_type": "stream",
          "name": "stdout",
          "text": [
            "\n",
            "➡️ 正在翻译第 7/25 页\n"
          ]
        },
        {
          "output_type": "stream",
          "name": "stderr",
          "text": [
            "\n",
            "处理形状:   0%|          | 0/22 [00:00<?, ?it/s]\u001b[A\n",
            "处理形状:   5%|▍         | 1/22 [00:00<00:12,  1.64it/s]\u001b[A\n",
            "处理形状:   9%|▉         | 2/22 [00:01<00:11,  1.73it/s]\u001b[A\n",
            "处理形状:  14%|█▎        | 3/22 [00:01<00:10,  1.75it/s]\u001b[A\n",
            "处理形状:  18%|█▊        | 4/22 [00:02<00:10,  1.75it/s]\u001b[A\n",
            "处理形状:  27%|██▋       | 6/22 [00:02<00:06,  2.40it/s]\u001b[A\n",
            "处理形状:  36%|███▋      | 8/22 [00:04<00:08,  1.67it/s]\u001b[A\n",
            "处理形状:  45%|████▌     | 10/22 [00:05<00:05,  2.09it/s]\u001b[A\n",
            "处理形状:  50%|█████     | 11/22 [00:05<00:05,  2.01it/s]\u001b[A\n",
            "处理形状:  64%|██████▎   | 14/22 [00:06<00:02,  2.87it/s]\u001b[A\n",
            "处理形状:  68%|██████▊   | 15/22 [00:06<00:02,  2.57it/s]\u001b[A\n",
            "处理形状:  77%|███████▋  | 17/22 [00:07<00:01,  2.84it/s]\u001b[A\n",
            "处理形状:  82%|████████▏ | 18/22 [00:09<00:02,  1.63it/s]\u001b[A\n",
            "处理形状:  86%|████████▋ | 19/22 [00:12<00:04,  1.35s/it]\u001b[A\n",
            "处理形状:  95%|█████████▌| 21/22 [00:15<00:01,  1.29s/it]\u001b[A\n",
            "处理形状: 100%|██████████| 22/22 [00:17<00:00,  1.37s/it]\u001b[A\n",
            "翻译幻灯片:  28%|██▊       | 7/25 [02:04<05:53, 19.62s/页]"
          ]
        },
        {
          "output_type": "stream",
          "name": "stdout",
          "text": [
            "\n",
            "➡️ 正在翻译第 8/25 页\n"
          ]
        },
        {
          "output_type": "stream",
          "name": "stderr",
          "text": [
            "\n",
            "处理形状:   0%|          | 0/14 [00:00<?, ?it/s]\u001b[A\n",
            "处理形状:  14%|█▍        | 2/14 [00:00<00:03,  3.34it/s]\u001b[A\n",
            "处理形状:  21%|██▏       | 3/14 [00:01<00:04,  2.46it/s]\u001b[A\n",
            "处理形状:  29%|██▊       | 4/14 [00:01<00:04,  2.17it/s]\u001b[A\n",
            "处理形状:  36%|███▌      | 5/14 [00:05<00:13,  1.48s/it]\u001b[A\n",
            "处理形状:  43%|████▎     | 6/14 [00:05<00:09,  1.17s/it]\u001b[A\n",
            "处理形状:  57%|█████▋    | 8/14 [00:09<00:09,  1.55s/it]\u001b[A\n",
            "处理形状:  64%|██████▍   | 9/14 [00:11<00:07,  1.59s/it]\u001b[A\n",
            "处理形状:  71%|███████▏  | 10/14 [00:11<00:05,  1.32s/it]\u001b[A\n",
            "处理形状:  79%|███████▊  | 11/14 [00:12<00:03,  1.11s/it]\u001b[A\n",
            "处理形状:  86%|████████▌ | 12/14 [00:12<00:01,  1.04it/s]\u001b[A\n",
            "处理形状: 100%|██████████| 14/14 [00:16<00:00,  1.25s/it]\u001b[A\n",
            "翻译幻灯片:  32%|███▏      | 8/25 [02:20<05:15, 18.54s/页]"
          ]
        },
        {
          "output_type": "stream",
          "name": "stdout",
          "text": [
            "\n",
            "➡️ 正在翻译第 9/25 页\n"
          ]
        },
        {
          "output_type": "stream",
          "name": "stderr",
          "text": [
            "\n",
            "处理形状:   0%|          | 0/2 [00:00<?, ?it/s]\u001b[A\n",
            "处理形状:  50%|█████     | 1/2 [00:14<00:14, 14.29s/it]\u001b[A\n",
            "处理形状: 100%|██████████| 2/2 [00:14<00:00,  6.22s/it]\u001b[A\n",
            "翻译幻灯片:  36%|███▌      | 9/25 [02:35<04:38, 17.39s/页]"
          ]
        },
        {
          "output_type": "stream",
          "name": "stdout",
          "text": [
            "\n",
            "➡️ 正在翻译第 10/25 页\n"
          ]
        },
        {
          "output_type": "stream",
          "name": "stderr",
          "text": [
            "\n",
            "处理形状:   0%|          | 0/2 [00:00<?, ?it/s]\u001b[A\n",
            "处理形状:  50%|█████     | 1/2 [00:00<00:00,  1.77it/s]\u001b[A\n",
            "处理形状: 100%|██████████| 2/2 [00:01<00:00,  1.77it/s]\u001b[A\n",
            "翻译幻灯片:  40%|████      | 10/25 [02:36<03:05, 12.37s/页]"
          ]
        },
        {
          "output_type": "stream",
          "name": "stdout",
          "text": [
            "\n",
            "➡️ 正在翻译第 11/25 页\n"
          ]
        },
        {
          "output_type": "stream",
          "name": "stderr",
          "text": [
            "\n",
            "处理形状:   0%|          | 0/3 [00:00<?, ?it/s]\u001b[A\n",
            "处理形状:  33%|███▎      | 1/3 [00:00<00:01,  1.77it/s]\u001b[A\n",
            "处理形状:  67%|██████▋   | 2/3 [00:02<00:01,  1.21s/it]\u001b[A\n",
            "翻译幻灯片:  44%|████▍     | 11/25 [02:38<02:09,  9.27s/页]"
          ]
        },
        {
          "output_type": "stream",
          "name": "stdout",
          "text": [
            "\n",
            "➡️ 正在翻译第 12/25 页\n"
          ]
        },
        {
          "output_type": "stream",
          "name": "stderr",
          "text": [
            "\n",
            "处理形状:   0%|          | 0/39 [00:00<?, ?it/s]\u001b[A\n",
            "处理形状:   3%|▎         | 1/39 [00:00<00:28,  1.31it/s]\u001b[A\n",
            "处理形状:   5%|▌         | 2/39 [00:01<00:24,  1.53it/s]\u001b[A\n",
            "处理形状:   8%|▊         | 3/39 [00:01<00:22,  1.63it/s]\u001b[A\n",
            "处理形状:  15%|█▌        | 6/39 [00:02<00:10,  3.01it/s]\u001b[A\n",
            "处理形状:  18%|█▊        | 7/39 [00:03<00:12,  2.59it/s]\u001b[A\n",
            "处理形状:  21%|██        | 8/39 [00:03<00:13,  2.31it/s]\u001b[A\n",
            "处理形状:  23%|██▎       | 9/39 [00:04<00:13,  2.15it/s]\u001b[A\n",
            "处理形状:  26%|██▌       | 10/39 [00:04<00:14,  2.04it/s]\u001b[A\n",
            "处理形状:  28%|██▊       | 11/39 [00:05<00:14,  1.95it/s]\u001b[A\n",
            "处理形状:  31%|███       | 12/39 [00:05<00:14,  1.90it/s]\u001b[A\n",
            "处理形状:  33%|███▎      | 13/39 [00:06<00:13,  1.86it/s]\u001b[A\n",
            "处理形状:  36%|███▌      | 14/39 [00:06<00:13,  1.84it/s]\u001b[A\n",
            "处理形状:  38%|███▊      | 15/39 [00:08<00:17,  1.40it/s]\u001b[A\n",
            "处理形状:  41%|████      | 16/39 [00:08<00:15,  1.50it/s]\u001b[A\n",
            "处理形状:  44%|████▎     | 17/39 [00:09<00:14,  1.56it/s]\u001b[A\n",
            "处理形状:  46%|████▌     | 18/39 [00:10<00:19,  1.05it/s]\u001b[A\n",
            "处理形状:  67%|██████▋   | 26/39 [00:11<00:03,  3.71it/s]\u001b[A\n",
            "处理形状:  69%|██████▉   | 27/39 [00:12<00:03,  3.28it/s]\u001b[A\n",
            "处理形状:  72%|███████▏  | 28/39 [00:12<00:03,  2.92it/s]\u001b[A\n",
            "处理形状:  74%|███████▍  | 29/39 [00:13<00:03,  2.63it/s]\u001b[A\n",
            "处理形状:  77%|███████▋  | 30/39 [00:15<00:06,  1.34it/s]\u001b[A\n",
            "处理形状:  79%|███████▉  | 31/39 [00:15<00:05,  1.41it/s]\u001b[A\n",
            "处理形状:  82%|████████▏ | 32/39 [00:17<00:06,  1.06it/s]\u001b[A\n",
            "处理形状:  85%|████████▍ | 33/39 [00:18<00:05,  1.18it/s]\u001b[A\n",
            "处理形状:  87%|████████▋ | 34/39 [00:20<00:06,  1.37s/it]\u001b[A\n",
            "处理形状:  90%|████████▉ | 35/39 [00:23<00:07,  1.77s/it]\u001b[A\n",
            "处理形状:  92%|█████████▏| 36/39 [00:24<00:04,  1.43s/it]\u001b[A\n",
            "处理形状:  95%|█████████▍| 37/39 [00:24<00:02,  1.19s/it]\u001b[A\n",
            "处理形状:  97%|█████████▋| 38/39 [00:25<00:01,  1.01s/it]\u001b[A\n",
            "翻译幻灯片:  48%|████▊     | 12/25 [03:04<03:04, 14.22s/页]"
          ]
        },
        {
          "output_type": "stream",
          "name": "stdout",
          "text": [
            "\n",
            "➡️ 正在翻译第 13/25 页\n"
          ]
        },
        {
          "output_type": "stream",
          "name": "stderr",
          "text": [
            "\n",
            "处理形状:   0%|          | 0/57 [00:00<?, ?it/s]\u001b[A\n",
            "处理形状:   2%|▏         | 1/57 [00:00<00:31,  1.76it/s]\u001b[A\n",
            "处理形状:   4%|▎         | 2/57 [00:01<00:30,  1.79it/s]\u001b[A\n",
            "处理形状:   5%|▌         | 3/57 [00:03<01:12,  1.33s/it]\u001b[A\n",
            "处理形状:   9%|▉         | 5/57 [00:03<00:38,  1.35it/s]\u001b[A\n",
            "处理形状:  11%|█         | 6/57 [00:04<00:35,  1.45it/s]\u001b[A\n",
            "处理形状:  12%|█▏        | 7/57 [00:05<00:32,  1.54it/s]\u001b[A\n",
            "处理形状:  14%|█▍        | 8/57 [00:05<00:30,  1.61it/s]\u001b[A\n",
            "处理形状:  16%|█▌        | 9/57 [00:06<00:28,  1.66it/s]\u001b[A\n",
            "处理形状:  18%|█▊        | 10/57 [00:06<00:27,  1.69it/s]\u001b[A\n",
            "处理形状:  19%|█▉        | 11/57 [00:07<00:26,  1.71it/s]\u001b[A\n",
            "处理形状:  21%|██        | 12/57 [00:07<00:25,  1.74it/s]\u001b[A\n",
            "处理形状:  23%|██▎       | 13/57 [00:08<00:27,  1.63it/s]\u001b[A\n",
            "处理形状:  25%|██▍       | 14/57 [00:09<00:25,  1.68it/s]\u001b[A\n",
            "处理形状:  28%|██▊       | 16/57 [00:09<00:18,  2.22it/s]\u001b[A\n",
            "处理形状:  32%|███▏      | 18/57 [00:10<00:14,  2.61it/s]\u001b[A\n",
            "处理形状:  35%|███▌      | 20/57 [00:10<00:12,  2.89it/s]\u001b[A\n",
            "处理形状:  37%|███▋      | 21/57 [00:11<00:18,  1.97it/s]\u001b[A\n",
            "处理形状:  40%|████      | 23/57 [00:12<00:14,  2.36it/s]\u001b[A\n",
            "处理形状:  42%|████▏     | 24/57 [00:13<00:14,  2.20it/s]\u001b[A\n",
            "处理形状:  44%|████▍     | 25/57 [00:13<00:15,  2.09it/s]\u001b[A\n",
            "处理形状:  46%|████▌     | 26/57 [00:14<00:15,  2.01it/s]\u001b[A\n",
            "处理形状:  47%|████▋     | 27/57 [00:14<00:15,  1.94it/s]\u001b[A\n",
            "处理形状:  49%|████▉     | 28/57 [00:15<00:15,  1.89it/s]\u001b[A\n",
            "处理形状:  65%|██████▍   | 37/57 [00:15<00:03,  6.00it/s]\u001b[A\n",
            "处理形状:  67%|██████▋   | 38/57 [00:16<00:03,  4.77it/s]\u001b[A\n",
            "处理形状:  72%|███████▏  | 41/57 [00:18<00:05,  3.12it/s]\u001b[A\n",
            "处理形状:  74%|███████▎  | 42/57 [00:18<00:05,  2.83it/s]\u001b[A\n",
            "处理形状:  79%|███████▉  | 45/57 [00:19<00:04,  2.90it/s]\u001b[A\n",
            "处理形状:  81%|████████  | 46/57 [00:20<00:04,  2.64it/s]\u001b[A\n",
            "处理形状:  82%|████████▏ | 47/57 [00:20<00:04,  2.43it/s]\u001b[A\n",
            "处理形状:  84%|████████▍ | 48/57 [00:22<00:05,  1.50it/s]\u001b[A\n",
            "处理形状:  88%|████████▊ | 50/57 [00:23<00:03,  1.89it/s]\u001b[A\n",
            "处理形状:  89%|████████▉ | 51/57 [00:23<00:03,  1.87it/s]\u001b[A\n",
            "处理形状:  91%|█████████ | 52/57 [00:25<00:03,  1.26it/s]\u001b[A\n",
            "处理形状:  93%|█████████▎| 53/57 [00:25<00:02,  1.36it/s]\u001b[A\n",
            "处理形状:  96%|█████████▋| 55/57 [00:26<00:01,  1.81it/s]\u001b[A\n",
            "处理形状:  98%|█████████▊| 56/57 [00:27<00:00,  1.80it/s]\u001b[A\n",
            "处理形状: 100%|██████████| 57/57 [00:29<00:00,  1.11s/it]\u001b[A\n",
            "翻译幻灯片:  52%|█████▏    | 13/25 [03:34<03:47, 18.96s/页]"
          ]
        },
        {
          "output_type": "stream",
          "name": "stdout",
          "text": [
            "\n",
            "➡️ 正在翻译第 14/25 页\n"
          ]
        },
        {
          "output_type": "stream",
          "name": "stderr",
          "text": [
            "\n",
            "处理形状:   0%|          | 0/13 [00:00<?, ?it/s]\u001b[A\n",
            "处理形状:   8%|▊         | 1/13 [00:00<00:06,  1.79it/s]\u001b[A\n",
            "处理形状:  15%|█▌        | 2/13 [00:01<00:06,  1.77it/s]\u001b[A\n",
            "处理形状:  23%|██▎       | 3/13 [00:01<00:05,  1.78it/s]\u001b[A\n",
            "处理形状:  31%|███       | 4/13 [00:02<00:05,  1.78it/s]\u001b[A\n",
            "处理形状:  38%|███▊      | 5/13 [00:04<00:10,  1.33s/it]\u001b[A\n",
            "处理形状:  46%|████▌     | 6/13 [00:05<00:07,  1.07s/it]\u001b[A\n",
            "处理形状:  62%|██████▏   | 8/13 [00:08<00:06,  1.38s/it]\u001b[A\n",
            "处理形状:  69%|██████▉   | 9/13 [00:09<00:04,  1.17s/it]\u001b[A\n",
            "处理形状:  77%|███████▋  | 10/13 [00:10<00:03,  1.00s/it]\u001b[A\n",
            "处理形状:  92%|█████████▏| 12/13 [00:10<00:00,  1.44it/s]\u001b[A\n",
            "翻译幻灯片:  56%|█████▌    | 14/25 [03:44<03:00, 16.44s/页]"
          ]
        },
        {
          "output_type": "stream",
          "name": "stdout",
          "text": [
            "\n",
            "➡️ 正在翻译第 15/25 页\n"
          ]
        },
        {
          "output_type": "stream",
          "name": "stderr",
          "text": [
            "\n",
            "处理形状:   0%|          | 0/13 [00:00<?, ?it/s]\u001b[A\n",
            "处理形状:   8%|▊         | 1/13 [00:02<00:33,  2.79s/it]\u001b[A\n",
            "处理形状:  15%|█▌        | 2/13 [00:03<00:16,  1.47s/it]\u001b[A\n",
            "处理形状:  23%|██▎       | 3/13 [00:03<00:10,  1.06s/it]\u001b[A\n",
            "处理形状:  31%|███       | 4/13 [00:04<00:07,  1.18it/s]\u001b[A\n",
            "处理形状:  38%|███▊      | 5/13 [00:07<00:11,  1.47s/it]\u001b[A\n",
            "处理形状:  46%|████▌     | 6/13 [00:07<00:08,  1.16s/it]\u001b[A\n",
            "处理形状:  62%|██████▏   | 8/13 [00:08<00:03,  1.36it/s]\u001b[A\n",
            "处理形状:  69%|██████▉   | 9/13 [00:09<00:03,  1.24it/s]\u001b[A\n",
            "处理形状:  92%|█████████▏| 12/13 [00:10<00:00,  1.72it/s]\u001b[A\n",
            "处理形状: 100%|██████████| 13/13 [00:11<00:00,  1.64it/s]\u001b[A\n",
            "翻译幻灯片:  60%|██████    | 15/25 [03:55<02:28, 14.81s/页]"
          ]
        },
        {
          "output_type": "stream",
          "name": "stdout",
          "text": [
            "\n",
            "➡️ 正在翻译第 16/25 页\n"
          ]
        },
        {
          "output_type": "stream",
          "name": "stderr",
          "text": [
            "\n",
            "处理形状:   0%|          | 0/9 [00:00<?, ?it/s]\u001b[A\n",
            "处理形状:  11%|█         | 1/9 [00:00<00:04,  1.77it/s]\u001b[A\n",
            "处理形状:  22%|██▏       | 2/9 [00:01<00:03,  1.78it/s]\u001b[A\n",
            "处理形状:  33%|███▎      | 3/9 [00:01<00:03,  1.76it/s]\u001b[A\n",
            "处理形状:  44%|████▍     | 4/9 [00:05<00:09,  1.88s/it]\u001b[A\n",
            "处理形状:  56%|█████▌    | 5/9 [00:38<00:52, 13.11s/it]\u001b[A\n",
            "处理形状:  78%|███████▊  | 7/9 [00:41<00:14,  7.17s/it]\u001b[A\n",
            "处理形状:  89%|████████▉ | 8/9 [00:41<00:05,  5.41s/it]\u001b[A\n",
            "处理形状: 100%|██████████| 9/9 [00:42<00:00,  4.08s/it]\u001b[A\n",
            "翻译幻灯片:  64%|██████▍   | 16/25 [04:38<03:28, 23.17s/页]"
          ]
        },
        {
          "output_type": "stream",
          "name": "stdout",
          "text": [
            "\n",
            "➡️ 正在翻译第 17/25 页\n"
          ]
        },
        {
          "output_type": "stream",
          "name": "stderr",
          "text": [
            "\n",
            "处理形状:   0%|          | 0/8 [00:00<?, ?it/s]\u001b[A\n",
            "处理形状:  12%|█▎        | 1/8 [00:00<00:03,  1.77it/s]\u001b[A\n",
            "处理形状:  25%|██▌       | 2/8 [00:01<00:03,  1.77it/s]\u001b[A\n",
            "处理形状:  38%|███▊      | 3/8 [00:01<00:02,  1.78it/s]\u001b[A\n",
            "处理形状:  50%|█████     | 4/8 [00:05<00:07,  1.87s/it]\u001b[A\n",
            "处理形状:  62%|██████▎   | 5/8 [00:35<00:35, 11.81s/it]\u001b[A\n",
            "处理形状:  88%|████████▊ | 7/8 [00:37<00:06,  6.53s/it]\u001b[A\n",
            "处理形状: 100%|██████████| 8/8 [00:38<00:00,  4.94s/it]\u001b[A\n",
            "翻译幻灯片:  68%|██████▊   | 17/25 [05:16<03:41, 27.74s/页]"
          ]
        },
        {
          "output_type": "stream",
          "name": "stdout",
          "text": [
            "\n",
            "➡️ 正在翻译第 18/25 页\n"
          ]
        },
        {
          "output_type": "stream",
          "name": "stderr",
          "text": [
            "\n",
            "处理形状:   0%|          | 0/7 [00:00<?, ?it/s]\u001b[A\n",
            "处理形状:  14%|█▍        | 1/7 [00:00<00:03,  1.74it/s]\u001b[A\n",
            "处理形状:  29%|██▊       | 2/7 [00:01<00:02,  1.77it/s]\u001b[A\n",
            "处理形状:  43%|████▎     | 3/7 [00:01<00:02,  1.77it/s]\u001b[A\n",
            "处理形状:  57%|█████▋    | 4/7 [00:05<00:05,  1.90s/it]\u001b[A\n",
            "处理形状:  71%|███████▏  | 5/7 [00:18<00:11,  5.76s/it]\u001b[A\n",
            "处理形状: 100%|██████████| 7/7 [00:18<00:00,  2.98s/it]\u001b[A\n",
            "翻译幻灯片:  72%|███████▏  | 18/25 [05:35<02:55, 25.06s/页]"
          ]
        },
        {
          "output_type": "stream",
          "name": "stdout",
          "text": [
            "\n",
            "➡️ 正在翻译第 19/25 页\n"
          ]
        },
        {
          "output_type": "stream",
          "name": "stderr",
          "text": [
            "\n",
            "处理形状:   0%|          | 0/7 [00:00<?, ?it/s]\u001b[A\n",
            "处理形状:  14%|█▍        | 1/7 [00:00<00:03,  1.78it/s]\u001b[A\n",
            "处理形状:  29%|██▊       | 2/7 [00:01<00:02,  1.78it/s]\u001b[A\n",
            "处理形状:  43%|████▎     | 3/7 [00:01<00:02,  1.77it/s]\u001b[A\n",
            "处理形状:  57%|█████▋    | 4/7 [00:06<00:06,  2.12s/it]\u001b[A\n",
            "处理形状:  71%|███████▏  | 5/7 [00:09<00:05,  2.57s/it]\u001b[A\n",
            "处理形状:  86%|████████▌ | 6/7 [00:10<00:01,  1.89s/it]\u001b[A\n",
            "处理形状: 100%|██████████| 7/7 [00:10<00:00,  1.46s/it]\u001b[A\n",
            "翻译幻灯片:  76%|███████▌  | 19/25 [05:46<02:04, 20.75s/页]"
          ]
        },
        {
          "output_type": "stream",
          "name": "stdout",
          "text": [
            "\n",
            "➡️ 正在翻译第 20/25 页\n"
          ]
        },
        {
          "output_type": "stream",
          "name": "stderr",
          "text": [
            "\n",
            "处理形状:   0%|          | 0/4 [00:00<?, ?it/s]\u001b[A\n",
            "处理形状:  25%|██▌       | 1/4 [00:00<00:01,  1.77it/s]\u001b[A\n",
            "处理形状:  50%|█████     | 2/4 [00:01<00:01,  1.78it/s]\u001b[A\n",
            "处理形状:  75%|███████▌  | 3/4 [00:07<00:03,  3.15s/it]\u001b[A\n",
            "处理形状: 100%|██████████| 4/4 [00:07<00:00,  2.13s/it]\u001b[A\n",
            "翻译幻灯片:  80%|████████  | 20/25 [05:54<01:24, 16.90s/页]"
          ]
        },
        {
          "output_type": "stream",
          "name": "stdout",
          "text": [
            "\n",
            "➡️ 正在翻译第 21/25 页\n"
          ]
        },
        {
          "output_type": "stream",
          "name": "stderr",
          "text": [
            "\n",
            "处理形状:   0%|          | 0/21 [00:00<?, ?it/s]\u001b[A\n",
            "处理形状:   5%|▍         | 1/21 [00:00<00:11,  1.78it/s]\u001b[A\n",
            "处理形状:  10%|▉         | 2/21 [00:14<02:41,  8.51s/it]\u001b[A\n",
            "处理形状:  14%|█▍        | 3/21 [00:25<02:52,  9.58s/it]\u001b[A\n",
            "处理形状:  19%|█▉        | 4/21 [00:26<01:42,  6.02s/it]\u001b[A\n",
            "处理形状:  29%|██▊       | 6/21 [00:27<00:46,  3.13s/it]\u001b[A\n",
            "处理形状:  33%|███▎      | 7/21 [00:27<00:33,  2.43s/it]\u001b[A\n",
            "处理形状:  38%|███▊      | 8/21 [00:28<00:24,  1.90s/it]\u001b[A\n",
            "处理形状:  48%|████▊     | 10/21 [00:28<00:12,  1.18s/it]\u001b[A\n",
            "处理形状:  57%|█████▋    | 12/21 [00:30<00:08,  1.06it/s]\u001b[A\n",
            "处理形状:  62%|██████▏   | 13/21 [00:30<00:06,  1.17it/s]\u001b[A\n",
            "处理形状:  67%|██████▋   | 14/21 [00:31<00:05,  1.27it/s]\u001b[A\n",
            "处理形状:  71%|███████▏  | 15/21 [00:31<00:04,  1.37it/s]\u001b[A\n",
            "处理形状:  76%|███████▌  | 16/21 [00:32<00:03,  1.46it/s]\u001b[A\n",
            "处理形状:  81%|████████  | 17/21 [00:33<00:03,  1.25it/s]\u001b[A\n",
            "处理形状:  86%|████████▌ | 18/21 [00:33<00:02,  1.36it/s]\u001b[A\n",
            "处理形状:  95%|█████████▌| 20/21 [00:34<00:00,  1.88it/s]\u001b[A\n",
            "处理形状: 100%|██████████| 21/21 [00:35<00:00,  1.86it/s]\u001b[A\n",
            "翻译幻灯片:  84%|████████▍ | 21/25 [06:29<01:29, 22.35s/页]"
          ]
        },
        {
          "output_type": "stream",
          "name": "stdout",
          "text": [
            "\n",
            "➡️ 正在翻译第 22/25 页\n"
          ]
        },
        {
          "output_type": "stream",
          "name": "stderr",
          "text": [
            "\n",
            "处理形状:   0%|          | 0/8 [00:00<?, ?it/s]\u001b[A\n",
            "处理形状:  25%|██▌       | 2/8 [00:00<00:01,  3.53it/s]\u001b[A\n",
            "处理形状:  38%|███▊      | 3/8 [00:01<00:01,  2.53it/s]\u001b[A\n",
            "处理形状:  50%|█████     | 4/8 [00:01<00:01,  2.16it/s]\u001b[A\n",
            "处理形状:  62%|██████▎   | 5/8 [00:08<00:08,  2.76s/it]\u001b[A\n",
            "处理形状:  88%|████████▊ | 7/8 [00:09<00:01,  1.66s/it]\u001b[A\n",
            "翻译幻灯片:  88%|████████▊ | 22/25 [06:39<00:55, 18.61s/页]"
          ]
        },
        {
          "output_type": "stream",
          "name": "stdout",
          "text": [
            "\n",
            "➡️ 正在翻译第 23/25 页\n"
          ]
        },
        {
          "output_type": "stream",
          "name": "stderr",
          "text": [
            "\n",
            "处理形状:   0%|          | 0/2 [00:00<?, ?it/s]\u001b[A\n",
            "处理形状:  50%|█████     | 1/2 [00:00<00:00,  1.78it/s]\u001b[A\n",
            "处理形状: 100%|██████████| 2/2 [00:08<00:00,  4.85s/it]\u001b[A\n",
            "翻译幻灯片:  92%|█████████▏| 23/25 [06:47<00:31, 15.55s/页]"
          ]
        },
        {
          "output_type": "stream",
          "name": "stdout",
          "text": [
            "\n",
            "➡️ 正在翻译第 24/25 页\n"
          ]
        },
        {
          "output_type": "stream",
          "name": "stderr",
          "text": [
            "\n",
            "处理形状:   0%|          | 0/5 [00:00<?, ?it/s]\u001b[A\n",
            "处理形状:  20%|██        | 1/5 [00:00<00:02,  1.76it/s]\u001b[A\n",
            "处理形状:  40%|████      | 2/5 [00:01<00:01,  1.78it/s]\u001b[A\n",
            "处理形状:  60%|██████    | 3/5 [00:01<00:01,  1.60it/s]\u001b[A\n",
            "处理形状:  80%|████████  | 4/5 [00:03<00:01,  1.06s/it]\u001b[A\n",
            "处理形状: 100%|██████████| 5/5 [00:38<00:00, 13.17s/it]\u001b[A\n",
            "翻译幻灯片:  96%|█████████▌| 24/25 [07:25<00:22, 22.35s/页]"
          ]
        },
        {
          "output_type": "stream",
          "name": "stdout",
          "text": [
            "\n",
            "➡️ 正在翻译第 25/25 页\n"
          ]
        },
        {
          "output_type": "stream",
          "name": "stderr",
          "text": [
            "\n",
            "处理形状:   0%|          | 0/6 [00:00<?, ?it/s]\u001b[A\n",
            "处理形状:  33%|███▎      | 2/6 [00:00<00:01,  3.60it/s]\u001b[A\n",
            "处理形状:  67%|██████▋   | 4/6 [00:01<00:00,  2.22it/s]\u001b[A\n",
            "处理形状:  83%|████████▎ | 5/6 [00:37<00:10, 10.88s/it]\u001b[A\n",
            "处理形状: 100%|██████████| 6/6 [00:37<00:00,  7.81s/it]\u001b[A\n",
            "翻译幻灯片: 100%|██████████| 25/25 [08:03<00:00, 19.35s/页]\n"
          ]
        },
        {
          "output_type": "stream",
          "name": "stdout",
          "text": [
            "\n",
            "✅ 翻译完成，准备下载...\n"
          ]
        },
        {
          "output_type": "display_data",
          "data": {
            "text/plain": [
              "<IPython.core.display.Javascript object>"
            ],
            "application/javascript": [
              "\n",
              "    async function download(id, filename, size) {\n",
              "      if (!google.colab.kernel.accessAllowed) {\n",
              "        return;\n",
              "      }\n",
              "      const div = document.createElement('div');\n",
              "      const label = document.createElement('label');\n",
              "      label.textContent = `Downloading \"${filename}\": `;\n",
              "      div.appendChild(label);\n",
              "      const progress = document.createElement('progress');\n",
              "      progress.max = size;\n",
              "      div.appendChild(progress);\n",
              "      document.body.appendChild(div);\n",
              "\n",
              "      const buffers = [];\n",
              "      let downloaded = 0;\n",
              "\n",
              "      const channel = await google.colab.kernel.comms.open(id);\n",
              "      // Send a message to notify the kernel that we're ready.\n",
              "      channel.send({})\n",
              "\n",
              "      for await (const message of channel.messages) {\n",
              "        // Send a message to notify the kernel that we're ready.\n",
              "        channel.send({})\n",
              "        if (message.buffers) {\n",
              "          for (const buffer of message.buffers) {\n",
              "            buffers.push(buffer);\n",
              "            downloaded += buffer.byteLength;\n",
              "            progress.value = downloaded;\n",
              "          }\n",
              "        }\n",
              "      }\n",
              "      const blob = new Blob(buffers, {type: 'application/binary'});\n",
              "      const a = document.createElement('a');\n",
              "      a.href = window.URL.createObjectURL(blob);\n",
              "      a.download = filename;\n",
              "      div.appendChild(a);\n",
              "      a.click();\n",
              "      div.remove();\n",
              "    }\n",
              "  "
            ]
          },
          "metadata": {}
        },
        {
          "output_type": "display_data",
          "data": {
            "text/plain": [
              "<IPython.core.display.Javascript object>"
            ],
            "application/javascript": [
              "download(\"download_5d7c377d-c323-4ee2-af9e-d02629d674bb\", \"translated_output.pptx\", 4600759)"
            ]
          },
          "metadata": {}
        }
      ]
    }
  ]
}